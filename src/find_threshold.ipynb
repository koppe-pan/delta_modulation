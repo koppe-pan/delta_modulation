{
 "cells": [
  {
   "cell_type": "code",
   "execution_count": 215,
   "id": "5df6a690",
   "metadata": {},
   "outputs": [],
   "source": [
    "minus = 0b0\n",
    "plus = 0b1\n",
    "\n",
    "def encode_dm(source, scale, threshold):\n",
    "    stream = []\n",
    "    L = (len(source) + scale - 1) // scale\n",
    "    cur = 0\n",
    "    for i in range(L - 1):\n",
    "        dif = source[(i + 1) * scale] - cur\n",
    "        if dif >= 0:\n",
    "            stream.append(plus)\n",
    "            cur += threshold\n",
    "        else:\n",
    "            stream.append(minus)\n",
    "            cur -= threshold\n",
    "    return bytes(stream)"
   ]
  },
  {
   "cell_type": "code",
   "execution_count": 221,
   "id": "9cb78b63",
   "metadata": {},
   "outputs": [
    {
     "name": "stderr",
     "output_type": "stream",
     "text": [
      "/var/folders/4v/n_tcbvb52f5fls_l8v4twbb40000gn/T/ipykernel_82103/2544927709.py:7: DeprecationWarning: `np.float` is a deprecated alias for the builtin `float`. To silence this warning, use `float` by itself. Doing this will not modify any behavior and is safe. If you specifically wanted the numpy scalar type, use `np.float64` here.\n",
      "Deprecated in NumPy 1.20; for more details and guidance: https://numpy.org/devdocs/release/1.20.0-notes.html#deprecations\n",
      "  data = data.astype(np.float)\n"
     ]
    },
    {
     "name": "stdout",
     "output_type": "stream",
     "text": [
      "finished 0\n",
      "finished 100\n",
      "finished 200\n",
      "finished 300\n",
      "finished 400\n",
      "finished 500\n",
      "finished 600\n",
      "690\n",
      "700\n",
      "finished 700\n",
      "710\n",
      "finished 800\n",
      "finished 900\n",
      "finished 1000\n",
      "finished 1100\n",
      "finished 1200\n",
      "finished 1300\n",
      "finished 1400\n",
      "finished 1500\n",
      "finished 1600\n",
      "finished 1700\n",
      "finished 1800\n",
      "finished 1900\n",
      "finished 2000\n",
      "finished 2100\n",
      "finished 2200\n",
      "finished 2300\n",
      "finished 2400\n",
      "finished 2500\n",
      "finished 2600\n",
      "finished 2700\n",
      "finished 2800\n",
      "finished 2900\n"
     ]
    },
    {
     "data": {
      "text/plain": [
       "[<matplotlib.lines.Line2D at 0x148d9ba00>]"
      ]
     },
     "execution_count": 221,
     "metadata": {},
     "output_type": "execute_result"
    },
    {
     "data": {
      "image/png": "[encoded data removed]",
      "text/plain": [
       "<Figure size 432x288 with 1 Axes>"
      ]
     },
     "metadata": {
      "needs_background": "light"
     },
     "output_type": "display_data"
    }
   ],
   "source": [
    "import numpy as np\n",
    "import matplotlib.pyplot as plt\n",
    "import scipy.io.wavfile as wavfile\n",
    "\n",
    "wf = \"atr503_a50.wav\"\n",
    "fs, data = wavfile.read(\"../data/wav/{}\".format(wf))\n",
    "data = data.astype(np.float)\n",
    "\n",
    "\n",
    "SR = 16000\n",
    "scale = fs // SR\n",
    "\n",
    "error = []\n",
    "for d in range(0, 3000, 10):\n",
    "    stream = encode_dm(source = data, scale = scale, threshold = d)\n",
    "    y = [0]\n",
    "    for bit in stream:\n",
    "        val = y[-1]\n",
    "        if bit == minus:\n",
    "            val -= d\n",
    "        elif bit == plus:\n",
    "            val += d\n",
    "        else:\n",
    "            print(\"HA?\")\n",
    "        for _ in range(scale):\n",
    "            y.append(val)\n",
    "    res = 0\n",
    "    for i in range(len(y)):\n",
    "        res += (y[i] - data[i]) ** 2\n",
    "    error.append(res)\n",
    "    if(len(error) >= 5 and (error[-1] - error[-2]) * (error[-2] - error[-3]) < 0):\n",
    "        print(d)\n",
    "    if d % 100 == 0:\n",
    "        print('finished {}'.format(d))\n",
    "\n",
    "plt.plot(error)"
   ]
  },
  {
   "cell_type": "code",
   "execution_count": 222,
   "id": "4f32ba76",
   "metadata": {},
   "outputs": [
    {
     "name": "stderr",
     "output_type": "stream",
     "text": [
      "/var/folders/4v/n_tcbvb52f5fls_l8v4twbb40000gn/T/ipykernel_82103/1196833162.py:8: DeprecationWarning: `np.float` is a deprecated alias for the builtin `float`. To silence this warning, use `float` by itself. Doing this will not modify any behavior and is safe. If you specifically wanted the numpy scalar type, use `np.float64` here.\n",
      "Deprecated in NumPy 1.20; for more details and guidance: https://numpy.org/devdocs/release/1.20.0-notes.html#deprecations\n",
      "  data = data.astype(np.float)\n"
     ]
    },
    {
     "name": "stdout",
     "output_type": "stream",
     "text": [
      "693\n"
     ]
    }
   ],
   "source": [
    "import numpy as np\n",
    "import matplotlib.pyplot as plt\n",
    "import scipy.io.wavfile as wavfile\n",
    "import os\n",
    "\n",
    "wf = \"atr503_a50.wav\"\n",
    "fs, data = wavfile.read(\"../data/wav/{}\".format(wf))\n",
    "data = data.astype(np.float)\n",
    "\n",
    "SR = 16000\n",
    "scale = fs // SR\n",
    "\n",
    "def func(source, scale, threshold):\n",
    "    stream = encode_dm(source, scale, threshold)\n",
    "    y = [0]\n",
    "    for bit in stream:\n",
    "        val = y[-1]\n",
    "        if bit == minus:\n",
    "            val -= threshold\n",
    "        elif bit == plus:\n",
    "            val += threshold\n",
    "        else:\n",
    "            print(\"HA?\")\n",
    "        for _ in range(scale):\n",
    "            y.append(val)\n",
    "    res = 0\n",
    "    for i in range(len(y)):\n",
    "        res += (y[i] - source[i]) ** 2\n",
    "    return res\n",
    "\n",
    "left = 100\n",
    "right = 3000\n",
    "delta = 10\n",
    "\n",
    "while right - left > 10:\n",
    "    mid = (left + right) // 2\n",
    "    res = func(data, scale, mid + delta) - func(data, scale, mid)\n",
    "    if res > 0:\n",
    "        right = mid\n",
    "    else:\n",
    "        left = mid\n",
    "    \n",
    "print(right)"
   ]
  },
  {
   "cell_type": "code",
   "execution_count": 248,
   "id": "f7563f7c",
   "metadata": {},
   "outputs": [
    {
     "name": "stderr",
     "output_type": "stream",
     "text": [
      "/var/folders/4v/n_tcbvb52f5fls_l8v4twbb40000gn/T/ipykernel_82103/2988302712.py:8: DeprecationWarning: `np.float` is a deprecated alias for the builtin `float`. To silence this warning, use `float` by itself. Doing this will not modify any behavior and is safe. If you specifically wanted the numpy scalar type, use `np.float64` here.\n",
      "Deprecated in NumPy 1.20; for more details and guidance: https://numpy.org/devdocs/release/1.20.0-notes.html#deprecations\n",
      "  data = data.astype(np.float)\n"
     ]
    },
    {
     "data": {
      "text/plain": [
       "(72000.0, 72100.0)"
      ]
     },
     "execution_count": 248,
     "metadata": {},
     "output_type": "execute_result"
    },
    {
     "data": {
      "image/png": "[encoded data removed]",
      "text/plain": [
       "<Figure size 432x288 with 1 Axes>"
      ]
     },
     "metadata": {
      "needs_background": "light"
     },
     "output_type": "display_data"
    }
   ],
   "source": [
    "import numpy as np\n",
    "import matplotlib.pyplot as plt\n",
    "import scipy.io.wavfile as wavfile\n",
    "import os\n",
    "\n",
    "wf = \"atr503_a50.wav\"\n",
    "fs, data = wavfile.read(\"../data/wav/{}\".format(wf))\n",
    "data = data.astype(np.float)\n",
    "\n",
    "plt.plot(data)\n",
    "\n",
    "SR = 16000\n",
    "threshold = 693\n",
    "scale = fs // SR\n",
    "stream = encode_dm(source = data, scale = scale, threshold = threshold)\n",
    "\n",
    "y = [0]\n",
    "d = threshold\n",
    "for bit in stream:\n",
    "    val = y[-1]\n",
    "    if bit == minus:\n",
    "        val -= d\n",
    "    elif bit == plus:\n",
    "        val += d\n",
    "    else:\n",
    "        print(\"HA?\")\n",
    "    for _ in range(scale):\n",
    "        y.append(val)\n",
    "\n",
    "plt.plot(y)\n",
    "plt.xlim(72000, 72100)\n",
    "#plt.ylim(-8000, 8000)"
   ]
  },
  {
   "cell_type": "code",
   "execution_count": null,
   "id": "704b4383",
   "metadata": {},
   "outputs": [],
   "source": []
  }
 ],
 "metadata": {
  "kernelspec": {
   "display_name": "Python 3 (ipykernel)",
   "language": "python",
   "name": "python3"
  },
  "language_info": {
   "codemirror_mode": {
    "name": "ipython",
    "version": 3
   },
   "file_extension": ".py",
   "mimetype": "text/x-python",
   "name": "python",
   "nbconvert_exporter": "python",
   "pygments_lexer": "ipython3",
   "version": "3.8.13"
  }
 },
 "nbformat": 4,
 "nbformat_minor": 5
}
